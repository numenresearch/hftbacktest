{
 "cells": [
  {
   "cell_type": "markdown",
   "id": "10108f95",
   "metadata": {},
   "source": [
    "# Getting Started"
   ]
  },
  {
   "cell_type": "markdown",
   "id": "fb70e585",
   "metadata": {},
   "source": [
    "## Printing the best bid and the best ask"
   ]
  },
  {
   "cell_type": "code",
   "execution_count": 1,
   "id": "0f0e1b5a",
   "metadata": {},
   "outputs": [],
   "source": [
    "from numba import njit\n",
    "\n",
    "# numba.njit is strongly recommended for fast backtesting.\n",
    "@njit\n",
    "def print_bbo(hbt):\n",
    "    # Iterating until hftbacktest reaches the end of data.\n",
    "    while hbt.run:\n",
    "        # Elapses 60-sec every iteration.\n",
    "        # Time unit is the same as data's timestamp's unit.\n",
    "        # timestamp of the sample data is in microseconds.\n",
    "        if not hbt.elapse(60 * 1e6):\n",
    "            # hftbacktest encounters the end of data while elapsing.\n",
    "            return False\n",
    "        \n",
    "        # Prints the best bid and the best offer.\n",
    "        print(\n",
    "            'current_timestamp:', hbt.current_timestamp,\n",
    "            ', best_bid:', round(hbt.best_bid, 3),\n",
    "            ', best_ask:', round(hbt.best_ask, 3)\n",
    "        )\n",
    "    return True"
   ]
  },
  {
   "cell_type": "code",
   "execution_count": 2,
   "id": "d9e717ec",
   "metadata": {},
   "outputs": [
    {
     "name": "stdout",
     "output_type": "stream",
     "text": [
      "Load btcusdt_20230405.npz\n"
     ]
    }
   ],
   "source": [
    "from hftbacktest import HftBacktest, FeedLatency, Linear\n",
    "\n",
    "hbt = HftBacktest(\n",
    "    'btcusdt_20230405.npz',\n",
    "    tick_size=0.1,   # Tick size of a target trading asset\n",
    "    lot_size=0.001,    # Lot size of a target trading asset, minimum trading unit.\n",
    "    maker_fee=0.0002, # 0.02%, Maker fee, rebates if it is negative.\n",
    "    taker_fee=0.0007, # 0.07%, Taker fee. \n",
    "    order_latency=FeedLatency(), # Latency model: ConstantLatency, FeedLatency.\n",
    "    asset_type=Linear, # Asset type: Linear, Inverse.\n",
    "    snapshot='btcusdt_20230404_eod.npz'\n",
    ")"
   ]
  },
  {
   "cell_type": "markdown",
   "id": "0d4ecb19",
   "metadata": {},
   "source": [
    "You can see the best bid and the best ask every 60-sec."
   ]
  },
  {
   "cell_type": "code",
   "execution_count": 3,
   "id": "128fb48a",
   "metadata": {},
   "outputs": [
    {
     "name": "stdout",
     "output_type": "stream",
     "text": [
      "current_timestamp: 1680652860032116 , best_bid: 28150.7 , best_ask: 28150.8\n",
      "current_timestamp: 1680652920032116 , best_bid: 28144.1 , best_ask: 28144.2\n",
      "current_timestamp: 1680652980032116 , best_bid: 28149.9 , best_ask: 28150.0\n",
      "current_timestamp: 1680653040032116 , best_bid: 28145.7 , best_ask: 28145.8\n",
      "current_timestamp: 1680653100032116 , best_bid: 28140.5 , best_ask: 28140.6\n",
      "current_timestamp: 1680653160032116 , best_bid: 28143.8 , best_ask: 28143.9\n"
     ]
    },
    {
     "data": {
      "text/plain": [
       "False"
      ]
     },
     "execution_count": 3,
     "metadata": {},
     "output_type": "execute_result"
    }
   ],
   "source": [
    "print_bbo(hbt)"
   ]
  },
  {
   "cell_type": "markdown",
   "id": "7754e06a",
   "metadata": {},
   "source": [
    "## Feeding the data"
   ]
  },
  {
   "cell_type": "markdown",
   "id": "b0003e60",
   "metadata": {},
   "source": [
    "When you possess adequate memory, preloading the data into memory and providing it as input will be more efficient than lazy-loading during repeated backtesting. HftBacktest is compatible with either `numpy` arrays or `pandas` DataFrames."
   ]
  },
  {
   "cell_type": "code",
   "execution_count": 4,
   "id": "1222569e",
   "metadata": {},
   "outputs": [],
   "source": [
    "import numpy as np\n",
    "\n",
    "btcusdt_20230405 = np.load('btcusdt_20230405.npz')['data']\n",
    "btcusdt_20230404_eod = np.load('btcusdt_20230404_eod.npz')['data']\n",
    "\n",
    "hbt = HftBacktest(\n",
    "    btcusdt_20230405,\n",
    "    tick_size=0.1,\n",
    "    lot_size=0.001,\n",
    "    maker_fee=0.0002,\n",
    "    taker_fee=0.0007,\n",
    "    order_latency=FeedLatency(),\n",
    "    asset_type=Linear,\n",
    "    snapshot=btcusdt_20230404_eod\n",
    ")"
   ]
  },
  {
   "cell_type": "markdown",
   "id": "6c1d92d6",
   "metadata": {},
   "source": [
    "You can also provide the list of data."
   ]
  },
  {
   "cell_type": "code",
   "execution_count": 5,
   "id": "41eed45e",
   "metadata": {},
   "outputs": [],
   "source": [
    "hbt = HftBacktest(\n",
    "    [\n",
    "        btcusdt_20230405\n",
    "    ],\n",
    "    tick_size=0.1,\n",
    "    lot_size=0.001,\n",
    "    maker_fee=0.0002,\n",
    "    taker_fee=0.0007,\n",
    "    order_latency=FeedLatency(),\n",
    "    asset_type=Linear,\n",
    "    snapshot=btcusdt_20230404_eod\n",
    ")"
   ]
  },
  {
   "cell_type": "markdown",
   "id": "a39e7cf0",
   "metadata": {},
   "source": [
    "Due to the vast size of tick-by-tick market depth and trade data, loading the entire dataset into memory can be challenging, particularly when backtesting across multiple days. HftBacktest offers lazy loading support and is compatible with `npy`, `npz` (data should be stored under the `data` key), and pickled `pandas` DataFrames."
   ]
  },
  {
   "cell_type": "code",
   "execution_count": 6,
   "id": "0b58d8f9",
   "metadata": {},
   "outputs": [
    {
     "name": "stdout",
     "output_type": "stream",
     "text": [
      "Load btcusdt_20230405.npz\n"
     ]
    }
   ],
   "source": [
    "hbt = HftBacktest(\n",
    "    [\n",
    "        'btcusdt_20230405.npz'\n",
    "    ],\n",
    "    tick_size=0.1,\n",
    "    lot_size=0.001,\n",
    "    maker_fee=0.0002,\n",
    "    taker_fee=0.0007,\n",
    "    order_latency=FeedLatency(),\n",
    "    asset_type=Linear,\n",
    "    snapshot='btcusdt_20230404_eod.npz'\n",
    ")"
   ]
  },
  {
   "cell_type": "markdown",
   "id": "6ec3131e",
   "metadata": {},
   "source": [
    "## Getting the market depth"
   ]
  },
  {
   "cell_type": "code",
   "execution_count": 7,
   "id": "467b649d",
   "metadata": {},
   "outputs": [],
   "source": [
    "@njit\n",
    "def print_3depth(hbt):\n",
    "    while hbt.run:\n",
    "        if not hbt.elapse(60 * 1e6):\n",
    "            return False\n",
    "        \n",
    "        # a key of bid_depth or ask_depth is price in tick format.\n",
    "        # (integer) price_tick = price / tick_size\n",
    "        print('current_timestamp:', hbt.current_timestamp)\n",
    "        i = 0\n",
    "        for tick_price in range(hbt.best_ask_tick, hbt.high_ask_tick + 1):\n",
    "            if tick_price in hbt.ask_depth:\n",
    "                print(\n",
    "                    'ask: ',\n",
    "                    hbt.ask_depth[tick_price],\n",
    "                    '@',\n",
    "                    round(tick_price * hbt.tick_size, 3)\n",
    "                )\n",
    "                i += 1\n",
    "                if i == 3:\n",
    "                    break\n",
    "        i = 0\n",
    "        for tick_price in range(hbt.best_bid_tick, hbt.low_bid_tick - 1, -1):\n",
    "            if tick_price in hbt.bid_depth:\n",
    "                print(\n",
    "                    'bid: ',\n",
    "                    hbt.bid_depth[tick_price],\n",
    "                    '@',\n",
    "                    round(tick_price * hbt.tick_size, 3)\n",
    "                )\n",
    "                i += 1\n",
    "                if i == 3:\n",
    "                    break\n",
    "    return True"
   ]
  },
  {
   "cell_type": "code",
   "execution_count": null,
   "id": "0b819fe6",
   "metadata": {},
   "outputs": [],
   "source": []
  },
  {
   "cell_type": "code",
   "execution_count": 8,
   "id": "d26e299a",
   "metadata": {},
   "outputs": [
    {
     "name": "stdout",
     "output_type": "stream",
     "text": [
      "current_timestamp: 1680652860032116\n",
      "ask:  9.228 @ 28150.8\n",
      "ask:  0.387 @ 28150.9\n",
      "ask:  3.996 @ 28151.0\n",
      "bid:  3.135 @ 28150.7\n",
      "bid:  0.002 @ 28150.6\n",
      "bid:  0.813 @ 28150.5\n",
      "current_timestamp: 1680652920032116\n",
      "ask:  1.224 @ 28144.2\n",
      "ask:  0.223 @ 28144.3\n",
      "ask:  0.001 @ 28144.5\n",
      "bid:  10.529 @ 28144.1\n",
      "bid:  0.168 @ 28144.0\n",
      "bid:  0.29 @ 28143.9\n",
      "current_timestamp: 1680652980032116\n",
      "ask:  3.397 @ 28150.0\n",
      "ask:  1.282 @ 28150.1\n",
      "ask:  0.003 @ 28150.4\n",
      "bid:  7.951 @ 28149.9\n",
      "bid:  0.02 @ 28149.8\n",
      "bid:  0.02 @ 28149.7\n",
      "current_timestamp: 1680653040032116\n",
      "ask:  3.905 @ 28145.8\n",
      "ask:  1.695 @ 28145.9\n",
      "ask:  0.003 @ 28146.0\n",
      "bid:  5.793 @ 28145.7\n",
      "bid:  0.059 @ 28145.6\n",
      "bid:  0.044 @ 28145.5\n",
      "current_timestamp: 1680653100032116\n",
      "ask:  6.8 @ 28140.6\n",
      "ask:  0.001 @ 28140.7\n",
      "ask:  0.004 @ 28141.1\n",
      "bid:  2.416 @ 28140.5\n",
      "bid:  0.004 @ 28140.4\n",
      "bid:  0.012 @ 28140.3\n",
      "current_timestamp: 1680653160032116\n",
      "ask:  3.666 @ 28143.9\n",
      "ask:  1.422 @ 28144.0\n",
      "ask:  1.455 @ 28144.1\n",
      "bid:  3.189 @ 28143.8\n",
      "bid:  5.136 @ 28143.7\n",
      "bid:  0.012 @ 28143.5\n"
     ]
    },
    {
     "data": {
      "text/plain": [
       "False"
      ]
     },
     "execution_count": 8,
     "metadata": {},
     "output_type": "execute_result"
    }
   ],
   "source": [
    "hbt = HftBacktest(\n",
    "    btcusdt_20230405,\n",
    "    tick_size=0.1,\n",
    "    lot_size=0.001,\n",
    "    maker_fee=0.0002,\n",
    "    taker_fee=0.0007,\n",
    "    order_latency=FeedLatency(),\n",
    "    asset_type=Linear,\n",
    "    snapshot=btcusdt_20230404_eod\n",
    ")\n",
    "\n",
    "print_3depth(hbt)"
   ]
  },
  {
   "cell_type": "markdown",
   "id": "b27f7386",
   "metadata": {},
   "source": [
    "## Submitting an order"
   ]
  },
  {
   "cell_type": "code",
   "execution_count": 9,
   "id": "d5e29cfe",
   "metadata": {},
   "outputs": [],
   "source": [
    "from hftbacktest import GTC, NONE, NEW, FILLED, CANCELED, EXPIRED\n",
    "\n",
    "@njit\n",
    "def print_orders(hbt):\n",
    "    # You can access open orders and also closed orders via hbt.orders.\n",
    "    # hbt.orders is a Numba dictionary and its key is order_id(int).\n",
    "    for order_id, order in hbt.orders.items():\n",
    "        order_status = ''\n",
    "        if order.status == NONE:\n",
    "            order_status = 'NONE' # Exchange hasn't received an order yet.\n",
    "        elif order.status == NEW:\n",
    "            order_status = 'NEW'\n",
    "        elif order.status == FILLED:\n",
    "            order_status = 'FILLED'\n",
    "        elif order.status == CANCELED:\n",
    "            order_status = 'CANCELED'\n",
    "        elif order.status == EXPIRED:\n",
    "            order_status = 'EXPIRED' \n",
    "            \n",
    "        order_req = ''\n",
    "        if order.req == NONE:\n",
    "            order_req = 'NONE'\n",
    "        elif order.req == NEW:\n",
    "            order_req = 'NEW'\n",
    "        elif order.req == CANCELED:\n",
    "            order_req = 'CANCEL'\n",
    "            \n",
    "        print(\n",
    "            'current_timestamp:', hbt.current_timestamp, \n",
    "             ', order_id:', order_id,\n",
    "             ', order_price:', order.price,\n",
    "             ', order_qty:', order.qty,\n",
    "             ', order_status:', order_status,\n",
    "             ', order_req:', order_req\n",
    "        )\n",
    "\n",
    "@njit\n",
    "def submit_order(hbt):\n",
    "    is_order_submitted = False\n",
    "    while hbt.run:\n",
    "        if not hbt.elapse(30 * 1e6):\n",
    "            return False\n",
    "        \n",
    "        # Prints open orders.\n",
    "        print_orders(hbt)\n",
    "        \n",
    "        if not is_order_submitted:\n",
    "            # Submits a buy order at 100 tick below the best bid.\n",
    "            order_id = 1\n",
    "            order_price = hbt.best_bid - 100 * hbt.tick_size\n",
    "            order_qty = 1\n",
    "            time_in_force = GTC # Good 'till cancel\n",
    "            hbt.submit_buy_order(order_id, order_price, order_qty, time_in_force)\n",
    "            is_order_submitted = True\n",
    "    return True"
   ]
  },
  {
   "cell_type": "code",
   "execution_count": 10,
   "id": "ade32153",
   "metadata": {},
   "outputs": [
    {
     "name": "stdout",
     "output_type": "stream",
     "text": [
      "current_timestamp: 1680652860032116 , order_id: 1 , order_price: 28146.300000000003 , order_qty: 1.0 , order_status: NEW , order_req: NONE\n",
      "current_timestamp: 1680652890032116 , order_id: 1 , order_price: 28146.300000000003 , order_qty: 1.0 , order_status: FILLED , order_req: NONE\n",
      "current_timestamp: 1680652920032116 , order_id: 1 , order_price: 28146.300000000003 , order_qty: 1.0 , order_status: FILLED , order_req: NONE\n",
      "current_timestamp: 1680652950032116 , order_id: 1 , order_price: 28146.300000000003 , order_qty: 1.0 , order_status: FILLED , order_req: NONE\n",
      "current_timestamp: 1680652980032116 , order_id: 1 , order_price: 28146.300000000003 , order_qty: 1.0 , order_status: FILLED , order_req: NONE\n",
      "current_timestamp: 1680653010032116 , order_id: 1 , order_price: 28146.300000000003 , order_qty: 1.0 , order_status: FILLED , order_req: NONE\n",
      "current_timestamp: 1680653040032116 , order_id: 1 , order_price: 28146.300000000003 , order_qty: 1.0 , order_status: FILLED , order_req: NONE\n",
      "current_timestamp: 1680653070032116 , order_id: 1 , order_price: 28146.300000000003 , order_qty: 1.0 , order_status: FILLED , order_req: NONE\n",
      "current_timestamp: 1680653100032116 , order_id: 1 , order_price: 28146.300000000003 , order_qty: 1.0 , order_status: FILLED , order_req: NONE\n",
      "current_timestamp: 1680653130032116 , order_id: 1 , order_price: 28146.300000000003 , order_qty: 1.0 , order_status: FILLED , order_req: NONE\n",
      "current_timestamp: 1680653160032116 , order_id: 1 , order_price: 28146.300000000003 , order_qty: 1.0 , order_status: FILLED , order_req: NONE\n",
      "current_timestamp: 1680653190032116 , order_id: 1 , order_price: 28146.300000000003 , order_qty: 1.0 , order_status: FILLED , order_req: NONE\n"
     ]
    },
    {
     "data": {
      "text/plain": [
       "False"
      ]
     },
     "execution_count": 10,
     "metadata": {},
     "output_type": "execute_result"
    }
   ],
   "source": [
    "hbt = HftBacktest(\n",
    "    btcusdt_20230405,\n",
    "    tick_size=0.1,\n",
    "    lot_size=0.001,\n",
    "    maker_fee=0.0002,\n",
    "    taker_fee=0.0007,\n",
    "    order_latency=FeedLatency(),\n",
    "    asset_type=Linear,\n",
    "    snapshot=btcusdt_20230404_eod\n",
    ")\n",
    "\n",
    "submit_order(hbt)"
   ]
  },
  {
   "cell_type": "markdown",
   "id": "edcdf5c0",
   "metadata": {},
   "source": [
    "## Clearing inactive orders (FILLED, CANCELED, EXPIRED)"
   ]
  },
  {
   "cell_type": "code",
   "execution_count": 11,
   "id": "f163eef1",
   "metadata": {},
   "outputs": [],
   "source": [
    "from hftbacktest import GTC\n",
    "\n",
    "@njit\n",
    "def clear_inactive_orders(hbt):\n",
    "    is_order_submitted = False\n",
    "    while hbt.run:\n",
    "        if not hbt.elapse(30 * 1e6):\n",
    "            return False\n",
    "        \n",
    "        print_orders(hbt)\n",
    "        \n",
    "        # Removes inactive(FILLED, CANCELED, EXPIRED) orders from hbt.orders.\n",
    "        hbt.clear_inactive_orders()\n",
    "        \n",
    "        if not is_order_submitted:\n",
    "            order_id = 1\n",
    "            order_price = hbt.best_bid - 100 * hbt.tick_size\n",
    "            order_qty = 1\n",
    "            time_in_force = GTC\n",
    "            hbt.submit_buy_order(order_id, order_price, order_qty, time_in_force)\n",
    "            is_order_submitted = True\n",
    "    return True"
   ]
  },
  {
   "cell_type": "code",
   "execution_count": 12,
   "id": "3748a4b8",
   "metadata": {},
   "outputs": [
    {
     "name": "stdout",
     "output_type": "stream",
     "text": [
      "current_timestamp: 1680652860032116 , order_id: 1 , order_price: 28146.300000000003 , order_qty: 1.0 , order_status: NEW , order_req: NONE\n",
      "current_timestamp: 1680652890032116 , order_id: 1 , order_price: 28146.300000000003 , order_qty: 1.0 , order_status: FILLED , order_req: NONE\n"
     ]
    },
    {
     "data": {
      "text/plain": [
       "False"
      ]
     },
     "execution_count": 12,
     "metadata": {},
     "output_type": "execute_result"
    }
   ],
   "source": [
    "hbt = HftBacktest(\n",
    "    btcusdt_20230405,\n",
    "    tick_size=0.1,\n",
    "    lot_size=0.001,\n",
    "    maker_fee=0.0002,\n",
    "    taker_fee=0.0007,\n",
    "    order_latency=FeedLatency(),\n",
    "    asset_type=Linear,\n",
    "    snapshot=btcusdt_20230404_eod\n",
    ")\n",
    "\n",
    "clear_inactive_orders(hbt)"
   ]
  },
  {
   "cell_type": "markdown",
   "id": "0d6d85dd",
   "metadata": {},
   "source": [
    "## Watching a order status - pending due to order latency"
   ]
  },
  {
   "cell_type": "code",
   "execution_count": 13,
   "id": "859bca22",
   "metadata": {},
   "outputs": [],
   "source": [
    "from hftbacktest import GTC\n",
    "\n",
    "@njit\n",
    "def watch_pending(hbt):\n",
    "    is_order_submitted = False\n",
    "    while hbt.run:\n",
    "        # Elapses 0.01-sec every iteration.\n",
    "        if not hbt.elapse(0.01 * 1e6):\n",
    "            return False\n",
    "        \n",
    "        print_orders(hbt)\n",
    "        \n",
    "        hbt.clear_inactive_orders()\n",
    "        \n",
    "        if not is_order_submitted:\n",
    "            order_id = 1\n",
    "            order_price = hbt.best_bid - 100 * hbt.tick_size\n",
    "            order_qty = 1\n",
    "            time_in_force = GTC\n",
    "            hbt.submit_buy_order(order_id, order_price, order_qty, time_in_force)\n",
    "            is_order_submitted = True\n",
    "            \n",
    "        # Prevents too many prints\n",
    "        if hbt.orders[order_id].status == NEW:\n",
    "            return False\n",
    "    return True"
   ]
  },
  {
   "cell_type": "code",
   "execution_count": 14,
   "id": "a0c2e47e",
   "metadata": {},
   "outputs": [
    {
     "name": "stdout",
     "output_type": "stream",
     "text": [
      "current_timestamp: 1680652800052116 , order_id: 1 , order_price: 28145.100000000002 , order_qty: 1.0 , order_status: NONE , order_req: NEW\n",
      "current_timestamp: 1680652800062116 , order_id: 1 , order_price: 28145.100000000002 , order_qty: 1.0 , order_status: NONE , order_req: NEW\n",
      "current_timestamp: 1680652800072116 , order_id: 1 , order_price: 28145.100000000002 , order_qty: 1.0 , order_status: NEW , order_req: NONE\n"
     ]
    },
    {
     "data": {
      "text/plain": [
       "False"
      ]
     },
     "execution_count": 14,
     "metadata": {},
     "output_type": "execute_result"
    }
   ],
   "source": [
    "hbt = HftBacktest(\n",
    "    btcusdt_20230405,\n",
    "    tick_size=0.1,\n",
    "    lot_size=0.001,\n",
    "    maker_fee=0.0002,\n",
    "    taker_fee=0.0007,\n",
    "    order_latency=FeedLatency(),\n",
    "    asset_type=Linear,\n",
    "    snapshot=btcusdt_20230404_eod\n",
    ")\n",
    "\n",
    "watch_pending(hbt)"
   ]
  },
  {
   "cell_type": "markdown",
   "id": "00c1f5ed",
   "metadata": {},
   "source": [
    "## Waiting for an order response"
   ]
  },
  {
   "cell_type": "code",
   "execution_count": 15,
   "id": "b2e43564",
   "metadata": {},
   "outputs": [],
   "source": [
    "from hftbacktest import GTC\n",
    "\n",
    "@njit\n",
    "def wait_for_order_response(hbt):\n",
    "    order_id = 0\n",
    "    is_order_submitted = False\n",
    "    while hbt.run:\n",
    "        if not hbt.elapse(0.01 * 1e6):\n",
    "            return False\n",
    "        \n",
    "        print_orders(hbt)\n",
    "        \n",
    "        hbt.clear_inactive_orders()\n",
    "        \n",
    "        # Prevent too many prints\n",
    "        if order_id in hbt.orders:\n",
    "            if hbt.orders[order_id].status == NEW:\n",
    "                return False\n",
    "        \n",
    "        if not is_order_submitted:\n",
    "            order_id = 1\n",
    "            order_price = hbt.best_bid\n",
    "            order_qty = 1\n",
    "            time_in_force = GTC\n",
    "            hbt.submit_buy_order(order_id, order_price, order_qty, time_in_force)\n",
    "            # Wait for the order response for a given order id.\n",
    "            print('an order is submitted at', hbt.current_timestamp)\n",
    "            hbt.wait_order_response(order_id)\n",
    "            print('an order response is received at', hbt.current_timestamp)\n",
    "            is_order_submitted = True\n",
    "    return True"
   ]
  },
  {
   "cell_type": "code",
   "execution_count": 16,
   "id": "fcfb211b",
   "metadata": {},
   "outputs": [
    {
     "name": "stdout",
     "output_type": "stream",
     "text": [
      "an order is submitted at 1680652800042116\n",
      "an order response is received at 1680652800070493\n",
      "current_timestamp: 1680652800080493 , order_id: 1 , order_price: 28155.100000000002 , order_qty: 1.0 , order_status: NEW , order_req: NONE\n"
     ]
    },
    {
     "data": {
      "text/plain": [
       "False"
      ]
     },
     "execution_count": 16,
     "metadata": {},
     "output_type": "execute_result"
    }
   ],
   "source": [
    "hbt = HftBacktest(\n",
    "    btcusdt_20230405,\n",
    "    tick_size=0.1,\n",
    "    lot_size=0.001,\n",
    "    maker_fee=0.0002,\n",
    "    taker_fee=0.0007,\n",
    "    order_latency=FeedLatency(),\n",
    "    asset_type=Linear,\n",
    "    snapshot=btcusdt_20230404_eod\n",
    ")\n",
    "\n",
    "wait_for_order_response(hbt)"
   ]
  },
  {
   "cell_type": "markdown",
   "id": "b8c27280",
   "metadata": {},
   "source": [
    "## Printing position, balance, fee, and equity"
   ]
  },
  {
   "cell_type": "code",
   "execution_count": 17,
   "id": "c38365d8",
   "metadata": {},
   "outputs": [],
   "source": [
    "@njit\n",
    "def position(hbt):\n",
    "    is_order_submitted = False\n",
    "    while hbt.run:\n",
    "        if not hbt.elapse(60 * 1e6):\n",
    "            return False\n",
    "        \n",
    "        print_orders(hbt)\n",
    "        \n",
    "        hbt.clear_inactive_orders()\n",
    "        \n",
    "        # Prints position, balance, fee, and equity\n",
    "        print(\n",
    "            'current_timestamp:', hbt.current_timestamp,\n",
    "            ', position:', hbt.position,\n",
    "            ', balance:', hbt.balance,\n",
    "            ', fee:', hbt.fee,\n",
    "            ', equity:', hbt.equity\n",
    "        )\n",
    "        \n",
    "        if not is_order_submitted:\n",
    "            order_id = 1\n",
    "            order_price = hbt.best_bid\n",
    "            order_qty = 1\n",
    "            time_in_force = GTC\n",
    "            hbt.submit_buy_order(order_id, order_price, order_qty, time_in_force)\n",
    "            hbt.wait_order_response(order_id)\n",
    "            is_order_submitted = True\n",
    "    return True"
   ]
  },
  {
   "cell_type": "code",
   "execution_count": 18,
   "id": "a9cf70b2",
   "metadata": {},
   "outputs": [
    {
     "name": "stdout",
     "output_type": "stream",
     "text": [
      "current_timestamp: 1680652860032116 , position: 0.0 , balance: 0.0 , fee: 0.0 , equity: 0.0\n",
      "current_timestamp: 1680652920095398 , order_id: 1 , order_price: 28150.7 , order_qty: 1.0 , order_status: FILLED , order_req: NONE\n",
      "current_timestamp: 1680652920095398 , position: 1.0 , balance: -28150.7 , fee: 5.630140000000001 , equity: -12.180139999999273\n",
      "current_timestamp: 1680652980095398 , position: 1.0 , balance: -28150.7 , fee: 5.630140000000001 , equity: -6.380140000000001\n",
      "current_timestamp: 1680653040095398 , position: 1.0 , balance: -28150.7 , fee: 5.630140000000001 , equity: -10.580140000000728\n",
      "current_timestamp: 1680653100095398 , position: 1.0 , balance: -28150.7 , fee: 5.630140000000001 , equity: -15.780139999997818\n",
      "current_timestamp: 1680653160095398 , position: 1.0 , balance: -28150.7 , fee: 5.630140000000001 , equity: -12.480139999998546\n"
     ]
    },
    {
     "data": {
      "text/plain": [
       "False"
      ]
     },
     "execution_count": 18,
     "metadata": {},
     "output_type": "execute_result"
    }
   ],
   "source": [
    "hbt = HftBacktest(\n",
    "    btcusdt_20230405,\n",
    "    tick_size=0.1,\n",
    "    lot_size=0.001,\n",
    "    maker_fee=0.0002,\n",
    "    taker_fee=0.0007,\n",
    "    order_latency=FeedLatency(),\n",
    "    asset_type=Linear,\n",
    "    snapshot=btcusdt_20230404_eod\n",
    ")\n",
    "\n",
    "position(hbt)"
   ]
  },
  {
   "cell_type": "markdown",
   "id": "7d6c739c",
   "metadata": {},
   "source": [
    "## Canceling an open order"
   ]
  },
  {
   "cell_type": "code",
   "execution_count": 19,
   "id": "502bf0f6",
   "metadata": {},
   "outputs": [],
   "source": [
    "@njit\n",
    "def submit_and_cancel_order(hbt):\n",
    "    is_order_submitted = False\n",
    "    while hbt.run:\n",
    "        if not hbt.elapse(0.1 * 1e6):\n",
    "            return False\n",
    "        \n",
    "        print_orders(hbt)\n",
    "        \n",
    "        hbt.clear_inactive_orders()\n",
    "        \n",
    "        # Cancels if there is an open order\n",
    "        for order_id, order in hbt.orders.items():\n",
    "            # an order is only cancellable if order status is NEW.\n",
    "            # cancel request is negated if the order is already filled or filled before cancel request is processed.\n",
    "            if order.cancellable:\n",
    "                hbt.cancel(order_id)\n",
    "                # You can see status still NEW and see req CANCEL.\n",
    "                print_orders(hbt)\n",
    "                # cancels request also has order entry/response latencies the same as submitting.\n",
    "                hbt.wait_order_response(order_id)\n",
    "       \n",
    "        if not is_order_submitted:\n",
    "            order_id = 1\n",
    "            order_price = hbt.best_bid - 100 * hbt.tick_size\n",
    "            order_qty = 1\n",
    "            time_in_force = GTC\n",
    "            hbt.submit_buy_order(order_id, order_price, order_qty, time_in_force)\n",
    "            hbt.wait_order_response(order_id)\n",
    "            is_order_submitted = True\n",
    "        else:\n",
    "            if len(hbt.orders) == 0:\n",
    "                return False\n",
    "    return True"
   ]
  },
  {
   "cell_type": "code",
   "execution_count": 20,
   "id": "638c3012",
   "metadata": {},
   "outputs": [
    {
     "name": "stdout",
     "output_type": "stream",
     "text": [
      "current_timestamp: 1680652800254816 , order_id: 1 , order_price: 28145.100000000002 , order_qty: 1.0 , order_status: NEW , order_req: NONE\n",
      "current_timestamp: 1680652800254816 , order_id: 1 , order_price: 28145.100000000002 , order_qty: 1.0 , order_status: NEW , order_req: CANCEL\n",
      "current_timestamp: 1680652800973764 , order_id: 1 , order_price: 28145.100000000002 , order_qty: 1.0 , order_status: CANCELED , order_req: NONE\n"
     ]
    },
    {
     "data": {
      "text/plain": [
       "False"
      ]
     },
     "execution_count": 20,
     "metadata": {},
     "output_type": "execute_result"
    }
   ],
   "source": [
    "hbt = HftBacktest(\n",
    "    btcusdt_20230405,\n",
    "    tick_size=0.1,\n",
    "    lot_size=0.001,\n",
    "    maker_fee=0.0002,\n",
    "    taker_fee=0.0007,\n",
    "    order_latency=FeedLatency(),\n",
    "    asset_type=Linear,\n",
    "    snapshot=btcusdt_20230404_eod\n",
    ")\n",
    "\n",
    "submit_and_cancel_order(hbt)"
   ]
  },
  {
   "cell_type": "markdown",
   "id": "6a60476c",
   "metadata": {},
   "source": [
    "## Market order"
   ]
  },
  {
   "cell_type": "code",
   "execution_count": 21,
   "id": "9e87515b",
   "metadata": {},
   "outputs": [],
   "source": [
    "@njit\n",
    "def print_orders_exec_price(hbt):\n",
    "    for order_id, order in hbt.orders.items():\n",
    "        order_status = ''\n",
    "        if order.status == NONE:\n",
    "            order_status = 'NONE'\n",
    "        elif order.status == NEW:\n",
    "            order_status = 'NEW'\n",
    "        elif order.status == FILLED:\n",
    "            order_status = 'FILLED'\n",
    "        elif order.status == CANCELED:\n",
    "            order_status = 'CANCELED'\n",
    "        elif order.status == EXPIRED:\n",
    "            order_status = 'EXPIRED' \n",
    "            \n",
    "        order_req = ''\n",
    "        if order.req == NONE:\n",
    "            order_req = 'NONE'\n",
    "        elif order.req == NEW:\n",
    "            order_req = 'NEW'\n",
    "        elif order.req == CANCELED:\n",
    "            order_req = 'CANCEL'\n",
    "            \n",
    "        print(\n",
    "            'current_timestamp:', hbt.current_timestamp, \n",
    "             ', order_id:', order_id,\n",
    "             ', order_price:', order.price,\n",
    "             ', order_qty:', order.qty,\n",
    "             ', order_status:', order_status,\n",
    "             ', exec_price:', order.exec_price\n",
    "        )\n",
    "        \n",
    "@njit\n",
    "def market_order(hbt):\n",
    "    is_order_submitted = False\n",
    "    while hbt.run:\n",
    "        if not hbt.elapse(60 * 1e6):\n",
    "            return False\n",
    "        \n",
    "        print_orders(hbt)\n",
    "        \n",
    "        hbt.clear_inactive_orders()\n",
    "        \n",
    "        print(\n",
    "            'current_timestamp:', hbt.current_timestamp,\n",
    "             ', position:', hbt.position,\n",
    "             ', balance:', hbt.balance,\n",
    "             ', fee:', hbt.fee,\n",
    "             ', equity:', hbt.equity\n",
    "        )\n",
    "        \n",
    "        if not is_order_submitted:\n",
    "            order_id = 1\n",
    "            # Sets a deep price in the opposite side to take liquidity.\n",
    "            order_price = hbt.best_bid - 50 * hbt.tick_size\n",
    "            order_qty = 1\n",
    "            time_in_force = GTC\n",
    "            hbt.submit_sell_order(order_id, order_price, order_qty, time_in_force)\n",
    "            hbt.wait_order_response(order_id)\n",
    "            # You can see the order immediately filled.\n",
    "            # Also you can see the order executed at the best bid which is different from what it was submitted at.\n",
    "            print('best_bid:', hbt.best_bid)\n",
    "            print_orders_exec_price(hbt)            \n",
    "            is_order_submitted = True\n",
    "    return True"
   ]
  },
  {
   "cell_type": "code",
   "execution_count": 22,
   "id": "0b6003d9",
   "metadata": {},
   "outputs": [
    {
     "name": "stdout",
     "output_type": "stream",
     "text": [
      "current_timestamp: 1680652860032116 , position: 0.0 , balance: 0.0 , fee: 0.0 , equity: 0.0\n",
      "best_bid: 28150.7\n",
      "current_timestamp: 1680652860095398 , order_id: 1 , order_price: 28145.7 , order_qty: 1.0 , order_status: FILLED , exec_price: 28150.7\n",
      "current_timestamp: 1680652920095398 , order_id: 1 , order_price: 28145.7 , order_qty: 1.0 , order_status: FILLED , order_req: NONE\n",
      "current_timestamp: 1680652920095398 , position: -1.0 , balance: 28150.7 , fee: 19.70549 , equity: -13.155490000000729\n",
      "current_timestamp: 1680652980095398 , position: -1.0 , balance: 28150.7 , fee: 19.70549 , equity: -18.95549\n",
      "current_timestamp: 1680653040095398 , position: -1.0 , balance: 28150.7 , fee: 19.70549 , equity: -14.755489999999273\n",
      "current_timestamp: 1680653100095398 , position: -1.0 , balance: 28150.7 , fee: 19.70549 , equity: -9.555490000002184\n",
      "current_timestamp: 1680653160095398 , position: -1.0 , balance: 28150.7 , fee: 19.70549 , equity: -12.855490000001456\n"
     ]
    },
    {
     "data": {
      "text/plain": [
       "False"
      ]
     },
     "execution_count": 22,
     "metadata": {},
     "output_type": "execute_result"
    }
   ],
   "source": [
    "hbt = HftBacktest(\n",
    "    btcusdt_20230405,\n",
    "    tick_size=0.1,\n",
    "    lot_size=0.001,\n",
    "    maker_fee=0.0002,\n",
    "    taker_fee=0.0007,\n",
    "    order_latency=FeedLatency(),\n",
    "    asset_type=Linear,\n",
    "    snapshot=btcusdt_20230404_eod\n",
    ")\n",
    "\n",
    "market_order(hbt)"
   ]
  },
  {
   "cell_type": "markdown",
   "id": "980ebc4d",
   "metadata": {},
   "source": [
    "## GTX, Post-Only order"
   ]
  },
  {
   "cell_type": "code",
   "execution_count": 23,
   "id": "1b0255bb",
   "metadata": {},
   "outputs": [],
   "source": [
    "from hftbacktest import GTX\n",
    "\n",
    "@njit\n",
    "def submit_gtx(hbt):\n",
    "    is_order_submitted = False\n",
    "    while hbt.run:\n",
    "        if not hbt.elapse(60 * 1e6):\n",
    "            return False\n",
    "        \n",
    "        print_orders(hbt)\n",
    "        \n",
    "        hbt.clear_inactive_orders()\n",
    "        \n",
    "        print(\n",
    "            'current_timestamp:', hbt.current_timestamp,\n",
    "             ', position:', hbt.position,\n",
    "             ', balance:', hbt.balance,\n",
    "             ', fee:', hbt.fee,\n",
    "             ', equity:', hbt.equity\n",
    "        )\n",
    "        \n",
    "        if not is_order_submitted:\n",
    "            order_id = 1\n",
    "            # Sets a deep price in the opposite side and it will be rejected by GTX.\n",
    "            order_price = hbt.best_bid - 100 * hbt.tick_size\n",
    "            order_qty = 1\n",
    "            time_in_force = GTX\n",
    "            hbt.submit_sell_order(order_id, order_price, order_qty, time_in_force)\n",
    "            hbt.wait_order_response(order_id)\n",
    "            is_order_submitted = True\n",
    "    return True"
   ]
  },
  {
   "cell_type": "code",
   "execution_count": 24,
   "id": "f1030532",
   "metadata": {},
   "outputs": [
    {
     "name": "stdout",
     "output_type": "stream",
     "text": [
      "current_timestamp: 1680652860032116 , position: 0.0 , balance: 0.0 , fee: 0.0 , equity: 0.0\n",
      "current_timestamp: 1680652920095398 , order_id: 1 , order_price: 28140.7 , order_qty: 1.0 , order_status: EXPIRED , order_req: NONE\n",
      "current_timestamp: 1680652920095398 , position: 0.0 , balance: 0.0 , fee: 0.0 , equity: 0.0\n",
      "current_timestamp: 1680652980095398 , position: 0.0 , balance: 0.0 , fee: 0.0 , equity: 0.0\n",
      "current_timestamp: 1680653040095398 , position: 0.0 , balance: 0.0 , fee: 0.0 , equity: 0.0\n",
      "current_timestamp: 1680653100095398 , position: 0.0 , balance: 0.0 , fee: 0.0 , equity: 0.0\n",
      "current_timestamp: 1680653160095398 , position: 0.0 , balance: 0.0 , fee: 0.0 , equity: 0.0\n"
     ]
    },
    {
     "data": {
      "text/plain": [
       "False"
      ]
     },
     "execution_count": 24,
     "metadata": {},
     "output_type": "execute_result"
    }
   ],
   "source": [
    "hbt = HftBacktest(\n",
    "    btcusdt_20230405,\n",
    "    tick_size=0.1,\n",
    "    lot_size=0.001,\n",
    "    maker_fee=0.0002,\n",
    "    taker_fee=0.0007,\n",
    "    order_latency=FeedLatency(),\n",
    "    asset_type=Linear,\n",
    "    snapshot=btcusdt_20230404_eod\n",
    ")\n",
    "\n",
    "submit_gtx(hbt)"
   ]
  },
  {
   "cell_type": "markdown",
   "id": "eff830d3",
   "metadata": {},
   "source": [
    "## Plotting BBO"
   ]
  },
  {
   "cell_type": "code",
   "execution_count": 25,
   "id": "641721c6",
   "metadata": {},
   "outputs": [],
   "source": [
    "@njit\n",
    "def plot_bbo(hbt, local_timestamp, best_bid, best_ask):\n",
    "    while hbt.run:\n",
    "        if not hbt.elapse(1 * 1e6):\n",
    "            return False\n",
    "\n",
    "        # Records data points\n",
    "        local_timestamp.append(hbt.current_timestamp)\n",
    "        best_bid.append(hbt.best_bid)\n",
    "        best_ask.append(hbt.best_ask)\n",
    "    return True"
   ]
  },
  {
   "cell_type": "code",
   "execution_count": 26,
   "id": "9ecfecc8",
   "metadata": {},
   "outputs": [
    {
     "data": {
      "text/plain": [
       "<Axes: >"
      ]
     },
     "execution_count": 26,
     "metadata": {},
     "output_type": "execute_result"
    },
    {
     "data": {
      "image/png": "[encoded data removed]",
      "text/plain": [
       "<Figure size 640x480 with 1 Axes>"
      ]
     },
     "metadata": {},
     "output_type": "display_data"
    }
   ],
   "source": [
    "# Uses Numba list for njit.\n",
    "from numba.typed import List\n",
    "from numba import float64\n",
    "\n",
    "import pandas as pd\n",
    "\n",
    "hbt = HftBacktest(\n",
    "    btcusdt_20230405,\n",
    "    tick_size=0.1,\n",
    "    lot_size=0.001,\n",
    "    maker_fee=0.0002,\n",
    "    taker_fee=0.0007,\n",
    "    order_latency=FeedLatency(),\n",
    "    asset_type=Linear,\n",
    "    snapshot=btcusdt_20230404_eod\n",
    ")\n",
    "\n",
    "local_timestamp = List.empty_list(float64, allocated=10000)\n",
    "best_bid = List.empty_list(float64, allocated=10000)\n",
    "best_ask = List.empty_list(float64, allocated=10000)\n",
    "\n",
    "plot_bbo(hbt, local_timestamp, best_bid, best_ask)\n",
    "\n",
    "local_timestamp = pd.to_datetime(local_timestamp, unit='us', utc=True)\n",
    "best_bid = pd.Series(best_bid, index=local_timestamp)\n",
    "best_ask = pd.Series(best_ask, index=local_timestamp)\n",
    "\n",
    "best_bid.plot()\n",
    "best_ask.plot()"
   ]
  },
  {
   "cell_type": "markdown",
   "id": "1069fc95",
   "metadata": {},
   "source": [
    "## Printing stats"
   ]
  },
  {
   "cell_type": "code",
   "execution_count": 27,
   "id": "e001470d",
   "metadata": {},
   "outputs": [],
   "source": [
    "@njit\n",
    "def submit_order_stats(hbt, recorder):\n",
    "    buy_order_id = 1\n",
    "    sell_order_id = 2\n",
    "    half_spread = 1 * hbt.tick_size\n",
    "    \n",
    "    while hbt.run:\n",
    "        if not hbt.elapse(1 * 1e6):\n",
    "            return False\n",
    "        \n",
    "        hbt.clear_inactive_orders()\n",
    "        \n",
    "        mid = (hbt.best_bid + hbt.best_ask) / 2.0\n",
    "        \n",
    "        if buy_order_id not in hbt.orders:\n",
    "            order_price = round((mid - half_spread) / hbt.tick_size) * hbt.tick_size\n",
    "            order_qty = 1\n",
    "            time_in_force = GTC\n",
    "            hbt.submit_buy_order(buy_order_id, order_price, order_qty, time_in_force)\n",
    "            \n",
    "        if sell_order_id not in hbt.orders:\n",
    "            order_price = round((mid + half_spread) / hbt.tick_size) * hbt.tick_size\n",
    "            order_qty = 1\n",
    "            time_in_force = GTC\n",
    "            hbt.submit_sell_order(sell_order_id, order_price, order_qty, time_in_force)\n",
    "            \n",
    "        recorder.record(hbt)\n",
    "    return True"
   ]
  },
  {
   "cell_type": "code",
   "execution_count": 28,
   "id": "a3795e40",
   "metadata": {},
   "outputs": [
    {
     "name": "stdout",
     "output_type": "stream",
     "text": [
      "=========== Summary ===========\n",
      "Sharpe ratio: -355.7\n",
      "Sortino ratio: -210.0\n",
      "Risk return ratio: -52717.6\n",
      "Annualised return: -3141.57 %\n",
      "Max. draw down: 0.06 %\n",
      "The number of trades per day: 9\n",
      "Avg. daily trading volume: 9\n",
      "Avg. daily trading amount: 255269\n",
      "Max leverage: 1.27\n",
      "Median leverage: 0.14\n"
     ]
    },
    {
     "data": {
      "image/png": "[encoded data removed]",
      "text/plain": [
       "<Figure size 1000x600 with 2 Axes>"
      ]
     },
     "metadata": {},
     "output_type": "display_data"
    }
   ],
   "source": [
    "from hftbacktest import Stat\n",
    "\n",
    "hbt = HftBacktest(\n",
    "    btcusdt_20230405,\n",
    "    tick_size=0.1,\n",
    "    lot_size=0.001,\n",
    "    maker_fee=0.0002,\n",
    "    taker_fee=0.0007,\n",
    "    order_latency=FeedLatency(),\n",
    "    asset_type=Linear,\n",
    "    snapshot=btcusdt_20230404_eod\n",
    ")\n",
    "\n",
    "stat = Stat(hbt)\n",
    "submit_order_stats(hbt, stat.recorder)\n",
    "\n",
    "# Default resample is 5min.\n",
    "stat.summary(capital=200000, resample='1s')"
   ]
  }
 ],
 "metadata": {
  "kernelspec": {
   "display_name": "Python 3 (ipykernel)",
   "language": "python",
   "name": "python3"
  },
  "language_info": {
   "codemirror_mode": {
    "name": "ipython",
    "version": 3
   },
   "file_extension": ".py",
   "mimetype": "text/x-python",
   "name": "python",
   "nbconvert_exporter": "python",
   "pygments_lexer": "ipython3",
   "version": "3.10.9"
  }
 },
 "nbformat": 4,
 "nbformat_minor": 5
}
